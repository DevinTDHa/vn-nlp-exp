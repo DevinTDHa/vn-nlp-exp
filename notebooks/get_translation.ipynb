{
 "cells": [
  {
   "cell_type": "markdown",
   "metadata": {},
   "source": [
    "# Crawlig Laban\n",
    "\n",
    "- https://dict.laban.vn/\n",
    "\n",
    "Curl for en-vi and the word train:\n",
    "\n",
    "```\n",
    "curl 'https://dict.laban.vn/find?type=1&query=train' --compressed -H 'User-Agent: Mozilla/5.0 (X11; Linux x86_64; rv:125.0) Gecko/20100101 Firefox/125.0' -H 'Accept: text/html,application/xhtml+xml,application/xml;q=0.9,image/avif,image/webp,*/*;q=0.8' -H 'Accept-Language: en-US,en;q=0.5' -H 'Accept-Encoding: gzip, deflate, br' -H 'Connection: keep-alive' -H 'Referer: https://dict.laban.vn/' -H 'Upgrade-Insecure-Requests: 1' -H 'Sec-Fetch-Dest: document' -H 'Sec-Fetch-Mode: navigate' -H 'Sec-Fetch-Site: same-origin' -H 'Sec-Fetch-User: ?1'\n",
    "```"
   ]
  },
  {
   "cell_type": "code",
   "execution_count": 1,
   "metadata": {},
   "outputs": [],
   "source": [
    "import requests\n",
    "import os\n",
    "\n",
    "headers = {\n",
    "    \"User-Agent\": \"Mozilla/5.0 (X11; Linux x86_64; rv:125.0) Gecko/20100101 Firefox/125.0\",\n",
    "    \"Accept\": \"text/html,application/xhtml+xml,application/xml;q=0.9,image/avif,image/webp,*/*;q=0.8\",\n",
    "    \"Accept-Language\": \"en-US,en;q=0.5\",\n",
    "    # 'Accept-Encoding': 'gzip, deflate, br',\n",
    "    # 'Connection': 'keep-alive',\n",
    "    \"Referer\": \"https://dict.laban.vn/\",\n",
    "    \"Upgrade-Insecure-Requests\": \"1\",\n",
    "    \"Sec-Fetch-Dest\": \"document\",\n",
    "    \"Sec-Fetch-Mode\": \"navigate\",\n",
    "    \"Sec-Fetch-Site\": \"same-origin\",\n",
    "    \"Sec-Fetch-User\": \"?1\",\n",
    "}\n",
    "\n",
    "params = {\n",
    "    \"type\": \"1\",\n",
    "    \"query\": \"train\",\n",
    "}\n",
    "\n",
    "response = requests.get(\"https://dict.laban.vn/find\", params=params, headers=headers)\n",
    "\n",
    "if response.status_code != 200:\n",
    "    print(\"Failed to get response\")\n",
    "    exit(1)\n",
    "else:\n",
    "    if \"example_found.html\" not in os.listdir():\n",
    "        with open(\"example_found.html\", \"w+\") as f:\n",
    "            f.write(response.text)"
   ]
  },
  {
   "cell_type": "markdown",
   "metadata": {},
   "source": [
    "## Parser\n",
    "\n",
    "Potential elements to select by:\n",
    "\n",
    "```html\n",
    "<li class=\"slide_content \" rel=\"0\">\n",
    "    <div id=\"content_selectable\" class=\"content\">\n",
    "        <div class=\"bg-grey bold font-large m-top20\"><span>Danh từ</span></div>\n",
    "        <div class=\"green bold margin25 m-top15\">xe lửa, (khẩu ngữ) tàu</div>\n",
    "\n",
    "```"
   ]
  },
  {
   "cell_type": "code",
   "execution_count": 2,
   "metadata": {},
   "outputs": [],
   "source": [
    "import bs4\n",
    "from bs4 import BeautifulSoup\n",
    "\n",
    "html_content = response.content\n",
    "\n",
    "soup = BeautifulSoup(html_content, \"html.parser\")"
   ]
  },
  {
   "cell_type": "code",
   "execution_count": 3,
   "metadata": {},
   "outputs": [],
   "source": [
    "li_elements = soup.select('li.slide_content:not([class*=\" \"])')"
   ]
  },
  {
   "cell_type": "code",
   "execution_count": 4,
   "metadata": {},
   "outputs": [],
   "source": [
    "found_children = list(li_elements[0].children)"
   ]
  },
  {
   "cell_type": "code",
   "execution_count": 5,
   "metadata": {},
   "outputs": [
    {
     "data": {
      "text/plain": [
       "(<div class=\"content\" id=\"content_selectable\">\n",
       " <div class=\"bg-grey bold font-large m-top20\"><span>Danh từ</span></div>\n",
       " <div class=\"green bold margin25 m-top15\">xe lửa, (khẩu ngữ) tàu</div>\n",
       " <div class=\"color-light-blue margin25 m-top15\"><a class=\"find_word\" dict=\"1\" href=\"javascript:void(0);\" rel=\"a\">a</a> <a class=\"find_word\" dict=\"1\" href=\"javascript:void(0);\" rel=\"passenger\">passenger</a> train</div>\n",
       " <div class=\"margin25\">xe lửa hành khách</div>\n",
       " <div class=\"color-light-blue margin25 m-top15\"><a class=\"find_word\" dict=\"1\" href=\"javascript:void(0);\" rel=\"express\">express</a> train</div>\n",
       " <div class=\"margin25\">xe lửa tốc hành</div>\n",
       " <div class=\"color-light-blue margin25 m-top15\"><a class=\"find_word\" dict=\"1\" href=\"javascript:void(0);\" rel=\"if\">if</a> <a class=\"find_word\" dict=\"1\" href=\"javascript:void(0);\" rel=\"you\">you</a> <a class=\"find_word\" dict=\"1\" href=\"javascript:void(0);\" rel=\"miss\">miss</a> <a class=\"find_word\" dict=\"1\" href=\"javascript:void(0);\" rel=\"the\">the</a> train <a class=\"find_word\" dict=\"1\" href=\"javascript:void(0);\" rel=\"there's\">there's</a> <a class=\"find_word\" dict=\"1\" href=\"javascript:void(0);\" rel=\"another\">another</a> <a class=\"find_word\" dict=\"1\" href=\"javascript:void(0);\" rel=\"an\">an</a> <a class=\"find_word\" dict=\"1\" href=\"javascript:void(0);\" rel=\"hour\">hour</a> <a class=\"find_word\" dict=\"1\" href=\"javascript:void(0);\" rel=\"later\">later</a></div>\n",
       " <div class=\"margin25\">nếu anh nhỡ tàu, một tiếng sau sẽ có một chuyến khác</div>\n",
       " <div class=\"color-light-blue margin25 m-top15\"><a class=\"find_word\" dict=\"1\" href=\"javascript:void(0);\" rel=\"a\">a</a> train <a class=\"find_word\" dict=\"1\" href=\"javascript:void(0);\" rel=\"driver\">driver</a></div>\n",
       " <div class=\"margin25\">người lái xe lửa, tài xế xe lửa</div>\n",
       " <div class=\"green bold margin25 m-top15\">đoàn (người); đàn (thú nuôi)</div>\n",
       " <div class=\"color-light-blue margin25 m-top15\"><a class=\"find_word\" dict=\"1\" href=\"javascript:void(0);\" rel=\"a\">a</a> <a class=\"find_word\" dict=\"1\" href=\"javascript:void(0);\" rel=\"camel\">camel</a> train</div>\n",
       " <div class=\"margin25\">đàn lạc đà</div>\n",
       " <div class=\"green bold margin25 m-top15\">đoàn tuỳ tùng, đám người xúm quanh</div>\n",
       " <div class=\"color-light-blue margin25 m-top15\"><a class=\"find_word\" dict=\"1\" href=\"javascript:void(0);\" rel=\"the\">the</a> <a class=\"find_word\" dict=\"1\" href=\"javascript:void(0);\" rel=\"pop\">pop</a> <a class=\"find_word\" dict=\"1\" href=\"javascript:void(0);\" rel=\"star\">star</a> <a class=\"find_word\" dict=\"1\" href=\"javascript:void(0);\" rel=\"was\">was</a> <a class=\"find_word\" dict=\"1\" href=\"javascript:void(0);\" rel=\"followed\">followed</a> <a class=\"find_word\" dict=\"1\" href=\"javascript:void(0);\" rel=\"by\">by</a> <a class=\"find_word\" dict=\"1\" href=\"javascript:void(0);\" rel=\"a\">a</a> train <a class=\"find_word\" dict=\"1\" href=\"javascript:void(0);\" rel=\"of\">of</a> <a class=\"find_word\" dict=\"1\" href=\"javascript:void(0);\" rel=\"admirers\">admirers</a></div>\n",
       " <div class=\"margin25\">ngôi sao nhạc pop có một đám người hâm mộ xúm quanh</div>\n",
       " <div class=\"green bold margin25 m-top15\">(thường số ít) dây, chuỗi, loạt</div>\n",
       " <div class=\"color-light-blue margin25 m-top15\"><a class=\"find_word\" dict=\"1\" href=\"javascript:void(0);\" rel=\"his\">his</a> <a class=\"find_word\" dict=\"1\" href=\"javascript:void(0);\" rel=\"telephone\">telephone</a> <a class=\"find_word\" dict=\"1\" href=\"javascript:void(0);\" rel=\"call\">call</a> <a class=\"find_word\" dict=\"1\" href=\"javascript:void(0);\" rel=\"interrupted\">interrupted</a> <a class=\"find_word\" dict=\"1\" href=\"javascript:void(0);\" rel=\"my\">my</a> train <a class=\"find_word\" dict=\"1\" href=\"javascript:void(0);\" rel=\"of\">of</a> <a class=\"find_word\" dict=\"1\" href=\"javascript:void(0);\" rel=\"thought\">thought</a></div>\n",
       " <div class=\"margin25\">cú gọi điện thoại của anh ta đã cắt đứt dòng suy nghĩ của tôi</div>\n",
       " <div class=\"green bold margin25 m-top15\">đuôi dài lê thê (của áo phụ nữ)</div>\n",
       " <div class=\"bold dot-blue m-top15\">in train</div>\n",
       " <div class=\"grey bold margin25 m-top15\">được chuẩn bị, được sửa soạn</div>\n",
       " <div class=\"color-light-blue margin25 m-top15\"><a class=\"find_word\" dict=\"1\" href=\"javascript:void(0);\" rel=\"arrangements\">arrangements</a> <a class=\"find_word\" dict=\"1\" href=\"javascript:void(0);\" rel=\"for\">for</a> <a class=\"find_word\" dict=\"1\" href=\"javascript:void(0);\" rel=\"the\">the</a> <a class=\"find_word\" dict=\"1\" href=\"javascript:void(0);\" rel=\"ceremony\">ceremony</a> <a class=\"find_word\" dict=\"1\" href=\"javascript:void(0);\" rel=\"have\">have</a> <a class=\"find_word\" dict=\"1\" href=\"javascript:void(0);\" rel=\"been\">been</a> <a class=\"find_word\" dict=\"1\" href=\"javascript:void(0);\" rel=\"put\">put</a> <a class=\"find_word\" dict=\"1\" href=\"javascript:void(0);\" rel=\"in\">in</a> train</div>\n",
       " <div class=\"margin25\">những việc sắp xếp cho buổi lễ đã được chuẩn bị</div>\n",
       " <div class=\"bg-grey bold font-large m-top20\"><span>Động từ</span></div>\n",
       " <div class=\"green bold margin25 m-top15\">huấn luyện, rèn luyện, đào tạo</div>\n",
       " <div class=\"color-light-blue margin25 m-top15\"><a class=\"find_word\" dict=\"1\" href=\"javascript:void(0);\" rel=\"he\">he</a> <a class=\"find_word\" dict=\"1\" href=\"javascript:void(0);\" rel=\"was\">was</a> <a class=\"find_word\" dict=\"1\" href=\"javascript:void(0);\" rel=\"trained\">trained</a> <a class=\"find_word\" dict=\"1\" href=\"javascript:void(0);\" rel=\"as\">as</a> <a class=\"find_word\" dict=\"1\" href=\"javascript:void(0);\" rel=\"an\">an</a> <a class=\"find_word\" dict=\"1\" href=\"javascript:void(0);\" rel=\"engineer\">engineer</a></div>\n",
       " <div class=\"margin25\">anh ta được đào tạo để thành kỹ sư</div>\n",
       " <div class=\"color-light-blue margin25 m-top15\"><a class=\"find_word\" dict=\"1\" href=\"javascript:void(0);\" rel=\"i've\">I've</a> <a class=\"find_word\" dict=\"1\" href=\"javascript:void(0);\" rel=\"trained\">trained</a> <a class=\"find_word\" dict=\"1\" href=\"javascript:void(0);\" rel=\"my\">my</a> <a class=\"find_word\" dict=\"1\" href=\"javascript:void(0);\" rel=\"dog\">dog</a> <a class=\"find_word\" dict=\"1\" href=\"javascript:void(0);\" rel=\"to\">to</a> <a class=\"find_word\" dict=\"1\" href=\"javascript:void(0);\" rel=\"fetch\">fetch</a> <a class=\"find_word\" dict=\"1\" href=\"javascript:void(0);\" rel=\"my\">my</a> <a class=\"find_word\" dict=\"1\" href=\"javascript:void(0);\" rel=\"slippers\">slippers</a></div>\n",
       " <div class=\"margin25\">tôi đã huấn luyện con chó của tôi đi tìm mang về đôi dép cho tôi</div>\n",
       " <div class=\"color-light-blue margin25 m-top15\">train <a class=\"find_word\" dict=\"1\" href=\"javascript:void(0);\" rel=\"a\">a</a> <a class=\"find_word\" dict=\"1\" href=\"javascript:void(0);\" rel=\"horse\">horse</a> <a class=\"find_word\" dict=\"1\" href=\"javascript:void(0);\" rel=\"for\">for</a> <a class=\"find_word\" dict=\"1\" href=\"javascript:void(0);\" rel=\"a\">a</a> <a class=\"find_word\" dict=\"1\" href=\"javascript:void(0);\" rel=\"race\">race</a></div>\n",
       " <div class=\"margin25\">luyện ngựa chạy đua</div>\n",
       " <div class=\"green bold margin25 m-top15\">chĩa, nhắm</div>\n",
       " <div class=\"color-light-blue margin25 m-top15\"><a class=\"find_word\" dict=\"1\" href=\"javascript:void(0);\" rel=\"he\">he</a> <a class=\"find_word\" dict=\"1\" href=\"javascript:void(0);\" rel=\"trained\">trained</a> <a class=\"find_word\" dict=\"1\" href=\"javascript:void(0);\" rel=\"his\">his</a> <a class=\"find_word\" dict=\"1\" href=\"javascript:void(0);\" rel=\"binoculars\">binoculars</a> <a class=\"find_word\" dict=\"1\" href=\"javascript:void(0);\" rel=\"on\">on</a> <a class=\"find_word\" dict=\"1\" href=\"javascript:void(0);\" rel=\"the\">the</a> <a class=\"find_word\" dict=\"1\" href=\"javascript:void(0);\" rel=\"distant\">distant</a> <a class=\"find_word\" dict=\"1\" href=\"javascript:void(0);\" rel=\"figures\">figures</a></div>\n",
       " <div class=\"margin25\">anh ta nhằm ống nhòm vào những hình ảnh ở xa</div>\n",
       " <div class=\"green bold margin25 m-top15\">uốn, nắn (cây, cảnh)</div>\n",
       " <div class=\"color-light-blue margin25 m-top15\">train <a class=\"find_word\" dict=\"1\" href=\"javascript:void(0);\" rel=\"roses\">roses</a> <a class=\"find_word\" dict=\"1\" href=\"javascript:void(0);\" rel=\"against\">against</a> <a class=\"find_word\" dict=\"1\" href=\"javascript:void(0);\" rel=\"a\">a</a> <a class=\"find_word\" dict=\"1\" href=\"javascript:void(0);\" rel=\"wall\">wall</a></div>\n",
       " <div class=\"margin25\">uốn các khóm hồng cho dựa vào tường mà leo lên</div>\n",
       " </div>,\n",
       " bs4.element.Tag)"
      ]
     },
     "execution_count": 5,
     "metadata": {},
     "output_type": "execute_result"
    }
   ],
   "source": [
    "e = found_children[1]\n",
    "e, type(e)"
   ]
  },
  {
   "cell_type": "markdown",
   "metadata": {},
   "source": [
    "Processing:\n",
    "\n",
    "Iterate through all children of the `slide-content` class div and look for divs with the following classes:\n",
    "\n",
    "1. `bg-grey bold` are the word category of this definition (Noun, Verb etc.)\n",
    "2. `green bold` are the translation\n",
    "3. `color-light-blue` is an example in english\n",
    "4. `margin25` is the same example in vietamese\n",
    "\n",
    "We can iterate one by one and construct the following objects:\n",
    "\n",
    "- definition\n",
    "- translation\n",
    "- examples:\n",
    "  - first find english, then matching vietnamese\n",
    "  - only if two exist at the same time, construct the object and append to a list\n",
    "    - can pop a list for this"
   ]
  },
  {
   "cell_type": "code",
   "execution_count": 6,
   "metadata": {},
   "outputs": [],
   "source": [
    "t = list(e.children)[1]"
   ]
  },
  {
   "cell_type": "code",
   "execution_count": 7,
   "metadata": {},
   "outputs": [
    {
     "data": {
      "text/plain": [
       "['bg-grey', 'bold', 'font-large', 'm-top20']"
      ]
     },
     "execution_count": 7,
     "metadata": {},
     "output_type": "execute_result"
    }
   ],
   "source": [
    "t.attrs[\"class\"]"
   ]
  },
  {
   "cell_type": "code",
   "execution_count": 9,
   "metadata": {},
   "outputs": [],
   "source": [
    "from typing import List\n",
    "\n",
    "\n",
    "class Translation:\n",
    "    def __init__(self):\n",
    "        self.text: str = None\n",
    "        self.examples: List[(str, str)] = []\n",
    "        self.current_ex = (None, None)\n",
    "\n",
    "    def current_ex_filled(self):\n",
    "        return all(self.current_ex)\n",
    "\n",
    "    def fill_current_ex(self, en_ex=None, vi_ex=None):\n",
    "        if en_ex:\n",
    "            self.current_ex = (en_ex, self.current_ex[1])\n",
    "\n",
    "        if vi_ex:\n",
    "            self.current_ex = (self.current_ex[0], vi_ex)\n",
    "\n",
    "        if self.current_ex_filled():\n",
    "            self.current_examples.append(self.current_ex)\n",
    "            self.current_ex = (None, None)\n",
    "\n",
    "\n",
    "class DictEntry:\n",
    "    def __init__(self):\n",
    "        self.category: str = None\n",
    "        self.translations: List[Translation] = []\n",
    "\n",
    "    def filled(self):\n",
    "        return all([self.category, self.translations])\n",
    "\n",
    "    def __str__(self) -> str:\n",
    "        return f\"{self.category}: {self.translations}\"\n",
    "\n",
    "    def __repr__(self) -> str:\n",
    "        return self.__str__()\n",
    "\n",
    "\n",
    "def get_div_type(div):\n",
    "    category = [\"bg-grey\", \"bold\"]\n",
    "    translation = [\"green\", \"bold\"]\n",
    "    ex_en = [\"color-light-blue\"]\n",
    "    ex_vi = [\"margin25\"]\n",
    "\n",
    "    if all([c in div.attrs[\"class\"] for c in category]):\n",
    "        return \"category\"\n",
    "    elif all([c in div.attrs[\"class\"] for c in translation]):\n",
    "        return \"translation\"\n",
    "    elif all([c in div.attrs[\"class\"] for c in ex_en]):\n",
    "        return \"ex_en\"\n",
    "    elif all([c in div.attrs[\"class\"] for c in ex_vi]):\n",
    "        return \"ex_vi\"\n",
    "    else:\n",
    "        return None"
   ]
  },
  {
   "cell_type": "code",
   "execution_count": 68,
   "metadata": {},
   "outputs": [
    {
     "name": "stdout",
     "output_type": "stream",
     "text": [
      "processing Danh từ ['bg-grey', 'bold', 'font-large', 'm-top20']\n",
      "processing xe lửa, (khẩu ngữ) tàu ['green', 'bold', 'margin25', 'm-top15']\n",
      "processing a passenger train ['color-light-blue', 'margin25', 'm-top15']\n",
      "processing xe lửa hành khách ['margin25']\n"
     ]
    }
   ],
   "source": [
    "dict_entry = DictEntry()\n",
    "cur_translation = Translation()\n",
    "completed_entries = []\n",
    "for c in e.children:\n",
    "    if type(c) != bs4.element.Tag:\n",
    "        continue\n",
    "\n",
    "    print(\"processing\", c.text, c.attrs[\"class\"])\n",
    "\n",
    "    div_type = get_div_type(c)\n",
    "\n",
    "    if div_type == \"category\":\n",
    "        # New entry, save the current one\n",
    "        if dict_entry.filled():\n",
    "            print(dict_entry.category)\n",
    "            completed_entries.append(dict_entry)\n",
    "            dict_entry = DictEntry()\n",
    "        dict_entry.category = c.text\n",
    "    elif div_type == \"translation\":\n",
    "        cur_translation.text = c.text\n",
    "    elif div_type == \"ex_en\":\n",
    "        cur_translation.fill_current_ex(en_ex=c.text)\n",
    "    elif div_type == \"ex_vi\":\n",
    "        cur_translation.fill_current_ex(vi_ex=c.text)\n",
    "\n",
    "# Check if the last entry is filled\n",
    "if dict_entry.filled():\n",
    "    print(dict_entry.category)\n",
    "    completed_entries.append(dict_entry)"
   ]
  },
  {
   "cell_type": "code",
   "execution_count": 67,
   "metadata": {},
   "outputs": [
    {
     "data": {
      "text/plain": [
       "[Danh từ: đuôi dài lê thê (của áo phụ nữ), Động từ: uốn, nắn (cây, cảnh)]"
      ]
     },
     "execution_count": 67,
     "metadata": {},
     "output_type": "execute_result"
    }
   ],
   "source": [
    "completed_entries"
   ]
  },
  {
   "cell_type": "code",
   "execution_count": null,
   "metadata": {},
   "outputs": [],
   "source": []
  }
 ],
 "metadata": {
  "kernelspec": {
   "display_name": "ml_gpu",
   "language": "python",
   "name": "python3"
  },
  "language_info": {
   "codemirror_mode": {
    "name": "ipython",
    "version": 3
   },
   "file_extension": ".py",
   "mimetype": "text/x-python",
   "name": "python",
   "nbconvert_exporter": "python",
   "pygments_lexer": "ipython3",
   "version": "3.10.12"
  }
 },
 "nbformat": 4,
 "nbformat_minor": 2
}
