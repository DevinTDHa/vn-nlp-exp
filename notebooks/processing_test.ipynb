{
 "cells": [
  {
   "cell_type": "code",
   "execution_count": 1,
   "metadata": {},
   "outputs": [
    {
     "name": "stdout",
     "output_type": "stream",
     "text": [
      "7736833\n"
     ]
    }
   ],
   "source": [
    "import os\n",
    "\n",
    "\n",
    "output_folder = \"/media/ducha/SSDSHARED/VN/subs_dump/viet_subs_processed2\"\n",
    "\n",
    "\n",
    "def prepare_corpus(output_folder):\n",
    "    def get_file(file_name):\n",
    "        with open(os.path.join(output_folder, file_name), \"r\") as f:\n",
    "            # Read each line and strip the newline character\n",
    "            return set([line.strip() for line in f.readlines()])\n",
    "\n",
    "    # List all files in the folder, that are actually vietnamese\n",
    "    available_files = [\n",
    "        fname for fname in os.listdir(output_folder) if fname.rsplit(\".\", 4)[1] == \"vie\"\n",
    "    ]\n",
    "\n",
    "    corpus = [\n",
    "        (file_name.rsplit(\".\", 4)[0], get_file(file_name))\n",
    "        for file_name in available_files\n",
    "    ]\n",
    "    return corpus\n",
    "\n",
    "\n",
    "corpus = prepare_corpus(output_folder)\n",
    "print(sum([len(c[1]) for c in corpus]))"
   ]
  },
  {
   "cell_type": "markdown",
   "metadata": {},
   "source": [
    "# Raw Python"
   ]
  },
  {
   "cell_type": "code",
   "execution_count": 2,
   "metadata": {},
   "outputs": [],
   "source": [
    "import re\n",
    "\n",
    "\n",
    "def find_examples(ex, corpus, sentence_min_words=5, sentence_word_limit=30):\n",
    "    found_examples = []\n",
    "    regex_pattern = re.compile(rf\"\\b{ex}\\b\", re.IGNORECASE)\n",
    "    for file_name, file_content in corpus:\n",
    "        for line in file_content:\n",
    "            # Check case insensitive, and sentence should not go over word limit\n",
    "            contains_word = regex_pattern.search(line)\n",
    "            under_word_limit = len(line.split()) < sentence_word_limit\n",
    "            over_min_words = len(line.split()) > sentence_min_words\n",
    "            if contains_word and under_word_limit and over_min_words:\n",
    "                found_examples.append((file_name, line))\n",
    "\n",
    "    # sort by Sentence length\n",
    "    return sorted(found_examples, key=lambda x: len(x[1].split()), reverse=True)"
   ]
  },
  {
   "cell_type": "code",
   "execution_count": 4,
   "metadata": {},
   "outputs": [
    {
     "name": "stdout",
     "output_type": "stream",
     "text": [
      "CPU times: user 12.6 s, sys: 3.19 ms, total: 12.6 s\n",
      "Wall time: 12.6 s\n"
     ]
    },
    {
     "data": {
      "text/plain": [
       "12752"
      ]
     },
     "execution_count": 4,
     "metadata": {},
     "output_type": "execute_result"
    }
   ],
   "source": [
    "%%time\n",
    "\n",
    "example = \"cô gái\"\n",
    "results = find_examples(example, corpus)\n",
    "len(results)"
   ]
  },
  {
   "cell_type": "markdown",
   "metadata": {},
   "source": [
    "# numpy"
   ]
  },
  {
   "cell_type": "code",
   "execution_count": 7,
   "metadata": {},
   "outputs": [],
   "source": [
    "import numpy as np\n",
    "\n",
    "corpus_np = np.array(corpus)"
   ]
  },
  {
   "cell_type": "markdown",
   "metadata": {},
   "source": [
    "# Multiprocessing"
   ]
  },
  {
   "cell_type": "markdown",
   "metadata": {},
   "source": [
    "## Manager and Queues"
   ]
  },
  {
   "cell_type": "code",
   "execution_count": 8,
   "metadata": {},
   "outputs": [],
   "source": [
    "# Number of processes\n",
    "from multiprocessing import Process, Manager, Pool\n",
    "import math\n",
    "\n",
    "# Create a Manager object to manage the shared state\n",
    "num_processes = 6\n",
    "manager = Manager()\n",
    "result_queue = manager.Queue()\n",
    "\n",
    "sentence_min_words = 5\n",
    "sentence_word_limit = 30\n",
    "\n",
    "\n",
    "def find_examples_mp(ex_pattern, corpus, result_queue):\n",
    "    found_examples = []\n",
    "    for file_name, file_content in corpus:\n",
    "        for line in file_content:\n",
    "            # Check case insensitive, and sentence should not go over word limit\n",
    "            contains_word = ex_pattern.search(line)\n",
    "            under_word_limit = len(line.split()) < sentence_word_limit\n",
    "            over_min_words = len(line.split()) > sentence_min_words\n",
    "            if contains_word and under_word_limit and over_min_words:\n",
    "                found_examples.append((file_name, line))\n",
    "\n",
    "    result_queue.put(found_examples)"
   ]
  },
  {
   "cell_type": "code",
   "execution_count": 9,
   "metadata": {},
   "outputs": [
    {
     "name": "stdout",
     "output_type": "stream",
     "text": [
      "Assigning corpus length 2274\n",
      "Assigning corpus length 2274\n",
      "Assigning corpus length 2274\n",
      "Assigning corpus length 2274\n",
      "Assigning corpus length 2274\n",
      "Assigning corpus length 2274\n",
      "12744\n",
      "CPU times: user 20.5 ms, sys: 127 ms, total: 148 ms\n",
      "Wall time: 2.65 s\n"
     ]
    }
   ],
   "source": [
    "%%time\n",
    "\n",
    "# Create and start the processes\n",
    "processes = []\n",
    "split_size = len(corpus_np) // num_processes\n",
    "\n",
    "ex_pattern = re.compile(rf\"\\b{example}\\b\", re.IGNORECASE)\n",
    "for i in range(num_processes):\n",
    "    split_corpus = corpus_np[i * split_size : (i + 1) * split_size]\n",
    "    print(\"Assigning corpus length\", len(split_corpus))\n",
    "    p = Process(target=find_examples_mp, args=(ex_pattern, split_corpus, result_queue))\n",
    "    p.start()\n",
    "    processes.append(p)\n",
    "\n",
    "# Wait for all processes to finish\n",
    "for p in processes:\n",
    "    p.join()\n",
    "\n",
    "# Collect the results from the Queue and concatenate them into a single list\n",
    "final_result = []\n",
    "while not result_queue.empty():\n",
    "    final_result.extend(result_queue.get())\n",
    "\n",
    "final_result = sorted(final_result, key=lambda x: len(x[1].split()), reverse=True)\n",
    "\n",
    "print(len(final_result))"
   ]
  },
  {
   "cell_type": "code",
   "execution_count": 10,
   "metadata": {},
   "outputs": [
    {
     "data": {
      "text/plain": [
       "{('zulu.(1964)',\n",
       "  'Nhưng làm thế nào họ có thể cho phép bản thân Những cô gái trẻ với những ông già.'),\n",
       " ('zulu.(1964)',\n",
       "  'Ở Châu Âu, những cô gái trẻ chấp nhận có lẽ các cô gái Zulu may mắn hơn Margareta .'),\n",
       " ('zulu.(2013)', 'Anh từng thấy cô gái này chưa?'),\n",
       " ('zulu.(2013)', 'Chúng tôi đang điều tra vụ án cô gái ở Thảo cầm viên.'),\n",
       " ('zulu.(2013)', 'Cô gái giúp việc cho nhà thờ bị Trong này sao?'),\n",
       " ('zulu.(2013)', 'Cô gái nắm được tóc hắn trong tay,'),\n",
       " ('zulu.(2013)', 'Cô đã từng thấy cô gái này chưa?'),\n",
       " ('zulu.(2013)', 'Là cô gái bị giết đúng không?')}"
      ]
     },
     "execution_count": 10,
     "metadata": {},
     "output_type": "execute_result"
    }
   ],
   "source": [
    "set(results) - set(final_result)"
   ]
  },
  {
   "cell_type": "markdown",
   "metadata": {},
   "source": [
    "## Pools"
   ]
  },
  {
   "cell_type": "code",
   "execution_count": 3,
   "metadata": {},
   "outputs": [
    {
     "name": "stdout",
     "output_type": "stream",
     "text": [
      "CPU times: user 13.3 s, sys: 3.35 s, total: 16.7 s\n",
      "Wall time: 18.6 s\n"
     ]
    },
    {
     "data": {
      "text/plain": [
       "6"
      ]
     },
     "execution_count": 3,
     "metadata": {},
     "output_type": "execute_result"
    }
   ],
   "source": [
    "%%time\n",
    "with Pool(6) as pool:\n",
    "    result = pool.map(test_process, data_splits)\n",
    "\n",
    "len(list(result))\n"
   ]
  },
  {
   "cell_type": "markdown",
   "metadata": {},
   "source": [
    "# JIT - Numba"
   ]
  },
  {
   "cell_type": "code",
   "execution_count": 8,
   "metadata": {},
   "outputs": [
    {
     "data": {
      "text/plain": [
       "25000000"
      ]
     },
     "execution_count": 8,
     "metadata": {},
     "output_type": "execute_result"
    }
   ],
   "source": [
    "import numba\n",
    "\n",
    "@numba.jit(nopython=True)\n",
    "def even_suffix(s):\n",
    "    return s[-1] in {\"0\", \"2\", \"4\", \"6\", \"8\"}\n",
    "\n",
    "@numba.jit(nopython=True)\n",
    "def test_process(string_list):\n",
    "    result = []\n",
    "    for string in string_list:\n",
    "        if even_suffix(string):\n",
    "            result.append(string)\n",
    "    return result"
   ]
  },
  {
   "cell_type": "code",
   "execution_count": 9,
   "metadata": {},
   "outputs": [
    {
     "name": "stdout",
     "output_type": "stream",
     "text": [
      "CPU times: user 44.9 s, sys: 1.54 s, total: 46.4 s\n",
      "Wall time: 46.4 s\n"
     ]
    },
    {
     "data": {
      "text/plain": [
       "25000000"
      ]
     },
     "execution_count": 9,
     "metadata": {},
     "output_type": "execute_result"
    }
   ],
   "source": [
    "%%time\n",
    "\n",
    "result = test_process(large_set_of_strings)\n",
    "len(result)"
   ]
  },
  {
   "cell_type": "markdown",
   "metadata": {},
   "source": [
    "# Multithreading"
   ]
  },
  {
   "cell_type": "code",
   "execution_count": 7,
   "metadata": {},
   "outputs": [],
   "source": [
    "from concurrent.futures import ThreadPoolExecutor\n",
    "\n",
    "def even_suffix(s):\n",
    "    return s[-1] in {\"0\", \"2\", \"4\", \"6\", \"8\"}\n",
    "\n",
    "def test_process(string_list):\n",
    "    return [string for string in string_list if even_suffix(string)]\n",
    "\n",
    "def main(string_list, num_threads):\n",
    "    with ThreadPoolExecutor(max_workers=num_threads) as executor:\n",
    "        results = list(executor.map(test_process, data_splits))\n",
    "    \n",
    "    return [r for result in results for r in result]\n"
   ]
  },
  {
   "cell_type": "code",
   "execution_count": 8,
   "metadata": {},
   "outputs": [
    {
     "name": "stdout",
     "output_type": "stream",
     "text": [
      "25000000\n",
      "CPU times: user 4.75 s, sys: 159 ms, total: 4.91 s\n",
      "Wall time: 4.91 s\n"
     ]
    }
   ],
   "source": [
    "%%time\n",
    "# Example usage\n",
    "num_threads = 4\n",
    "result = main(large_set_of_strings, num_threads)\n",
    "print(len(result))"
   ]
  },
  {
   "cell_type": "code",
   "execution_count": null,
   "metadata": {},
   "outputs": [],
   "source": []
  }
 ],
 "metadata": {
  "kernelspec": {
   "display_name": "ml_gpu",
   "language": "python",
   "name": "python3"
  },
  "language_info": {
   "codemirror_mode": {
    "name": "ipython",
    "version": 3
   },
   "file_extension": ".py",
   "mimetype": "text/x-python",
   "name": "python",
   "nbconvert_exporter": "python",
   "pygments_lexer": "ipython3",
   "version": "3.10.12"
  }
 },
 "nbformat": 4,
 "nbformat_minor": 2
}
