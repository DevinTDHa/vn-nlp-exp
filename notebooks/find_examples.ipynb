{
 "cells": [
  {
   "cell_type": "code",
   "execution_count": 1,
   "metadata": {},
   "outputs": [],
   "source": [
    "import os\n",
    "\n",
    "\n",
    "output_folder = \"/media/ducha/SSDSHARED/VN/subs_dump/viet_subs_processed2\"\n",
    "\n",
    "\n",
    "def prepare_corpus(output_folder):\n",
    "    def get_file(file_name):\n",
    "        with open(os.path.join(output_folder, file_name), \"r\") as f:\n",
    "            # Read each line and strip the newline character\n",
    "            return set([line.strip() for line in f.readlines()])\n",
    "\n",
    "    # List all files in the folder, that are actually vietnamese\n",
    "    available_files = [\n",
    "        fname for fname in os.listdir(output_folder) if fname.rsplit(\".\", 4)[1] == \"vie\"\n",
    "    ]\n",
    "\n",
    "    corpus = [(file_name.rsplit(\".\", 4)[0], get_file(file_name)) for file_name in available_files]\n",
    "    return corpus\n",
    "\n",
    "corpus = prepare_corpus(output_folder)"
   ]
  },
  {
   "cell_type": "code",
   "execution_count": 10,
   "metadata": {},
   "outputs": [],
   "source": [
    "import re\n",
    "\n",
    "\n",
    "def find_examples(ex, corpus, sentence_min_words = 5, sentence_word_limit=30):\n",
    "    found_examples = []\n",
    "    regex_pattern = re.compile(rf\"\\b{ex}\\b\", re.IGNORECASE)\n",
    "    for file_name, file_content in corpus:\n",
    "        for line in file_content:\n",
    "            # Check case insensitive, and sentence should not go over word limit\n",
    "            contains_word = regex_pattern.search(line) \n",
    "            under_word_limit = len(line.split()) < sentence_word_limit\n",
    "            over_min_words = len(line.split()) > sentence_min_words\n",
    "            if contains_word and under_word_limit and over_min_words:\n",
    "                found_examples.append((file_name, line))\n",
    "    \n",
    "    # sort by Sentence length\n",
    "    return sorted(found_examples, key=lambda x: len(x[1].split()), reverse=True)"
   ]
  },
  {
   "cell_type": "code",
   "execution_count": 9,
   "metadata": {},
   "outputs": [
    {
     "data": {
      "text/plain": [
       "[('the.man.from.macau.(2014)',\n",
       "  'Nhưng thành phần này sẽ được trung hoà Vì vậy, nó không thể được tìm thấy thậm chí Tôi muốn loại thuốc đó.'),\n",
       " ('the.flash.s01.e21.grodd.lives.(2015)',\n",
       "  'Nó sử dụng cộng hưởng từ để trung hoà các tác nhân thần kình từ bên ngoài.'),\n",
       " ('keeping.up.with.the.joneses.(2016)',\n",
       "  'Rượu trung hoà hầu hết nọc độc rắn rồi.'),\n",
       " ('agents.of.s.h.i.e.l.d.s03.e14.watchdogs.(2016)',\n",
       "  'Trung hoà chất nitramene.')]"
      ]
     },
     "execution_count": 9,
     "metadata": {},
     "output_type": "execute_result"
    }
   ],
   "source": [
    "example = \"trung hoà\"\n",
    "find_examples(example, corpus)"
   ]
  }
 ],
 "metadata": {
  "kernelspec": {
   "display_name": "ml_gpu",
   "language": "python",
   "name": "python3"
  },
  "language_info": {
   "codemirror_mode": {
    "name": "ipython",
    "version": 3
   },
   "file_extension": ".py",
   "mimetype": "text/x-python",
   "name": "python",
   "nbconvert_exporter": "python",
   "pygments_lexer": "ipython3",
   "version": "3.10.12"
  }
 },
 "nbformat": 4,
 "nbformat_minor": 2
}
